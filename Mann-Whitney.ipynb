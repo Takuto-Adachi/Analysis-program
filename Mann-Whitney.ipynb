{
 "cells": [
  {
   "cell_type": "code",
   "execution_count": 1,
   "metadata": {},
   "outputs": [],
   "source": [
    "#数値計算ライブラリ\n",
    "import numpy as np\n",
    "import pandas as pd\n",
    "\n",
    "#可視化ライブラリ\n",
    "import matplotlib.pyplot as plt\n",
    "import japanize_matplotlib\n",
    "import seaborn as sns\n",
    "\n",
    "#sklearnの標準化モジュールをインポート\n",
    "from sklearn.preprocessing import StandardScaler\n",
    "from sklearn.decomposition import FactorAnalysis as FA\n",
    "from sklearn.decomposition import PCA"
   ]
  },
  {
   "cell_type": "code",
   "execution_count": 5,
   "metadata": {},
   "outputs": [
    {
     "name": "stdout",
     "output_type": "stream",
     "text": [
      "    B_up  B_down  A_up  A_down\n",
      "0    130     130   500     500\n",
      "1    200     200   140     130\n",
      "2    100     300   200     100\n",
      "3    400     400   200     250\n",
      "4    180     180   400     400\n",
      "5    800     800   100     105\n",
      "6    200     200   350     350\n",
      "7    180     180   180     150\n",
      "8    150     150   120     150\n",
      "9    300     300   150     150\n",
      "10   200     150   300     300\n",
      "11   400     200   120     160\n",
      "12   300     150   100     300\n",
      "13   300     400   150      60\n",
      "14   110      50   500     150\n",
      "15   700     400   170     100\n",
      "16   200     120   200     170\n",
      "17   140     170   100     150\n",
      "18   200     150   150     200\n",
      "19   400     300   180     150\n",
      "20   200     200   200     700\n",
      "21    50     200   120     170\n",
      "22    80     300    50     150\n",
      "23    70     100   180     250\n",
      "24   200     180   150     600\n",
      "25   600     900   105     150\n",
      "26   150     200   170     300\n",
      "27   140     140    70     200\n",
      "28   120     130   100     180\n",
      "29   300     400   110     150\n",
      "30   180     180   500     500\n",
      "31   400     500   130     150\n",
      "32   300     300   150     250\n",
      "33   300     300   200     150\n",
      "34   300     300   300     300\n",
      "35   800     800   120     140\n",
      "36   200     200   250     250\n",
      "37   200     200   160     160\n",
      "38   180     180   110     120\n",
      "39   400     400   120     120\n"
     ]
    }
   ],
   "source": [
    "#Excel読み込み\n",
    "df = pd.read_excel(\"velocity.xlsx\")\n",
    "print(df)"
   ]
  },
  {
   "cell_type": "code",
   "execution_count": 7,
   "metadata": {},
   "outputs": [
    {
     "name": "stdout",
     "output_type": "stream",
     "text": [
      "統計量: 1058.0\n",
      "p値: 0.012795698071282573\n"
     ]
    }
   ],
   "source": [
    "from scipy.stats import mannwhitneyu\n",
    "\n",
    "# マン・ホイットニーのU検定\n",
    "stat, p_value = mannwhitneyu(df[\"B_up\"],df[\"A_up\"], alternative='two-sided')\n",
    "\n",
    "# 結果の出力\n",
    "print(\"統計量:\", stat)\n",
    "print(\"p値:\", p_value)"
   ]
  },
  {
   "cell_type": "code",
   "execution_count": 8,
   "metadata": {},
   "outputs": [
    {
     "name": "stdout",
     "output_type": "stream",
     "text": [
      "統計量: 979.5\n",
      "p値: 0.0830769717262098\n"
     ]
    }
   ],
   "source": [
    "from scipy.stats import mannwhitneyu\n",
    "\n",
    "# マン・ホイットニーのU検定\n",
    "stat, p_value = mannwhitneyu(df[\"B_down\"],df[\"A_down\"], alternative='two-sided')\n",
    "\n",
    "# 結果の出力\n",
    "print(\"統計量:\", stat)\n",
    "print(\"p値:\", p_value)"
   ]
  }
 ],
 "metadata": {
  "kernelspec": {
   "display_name": "env",
   "language": "python",
   "name": "python3"
  },
  "language_info": {
   "codemirror_mode": {
    "name": "ipython",
    "version": 3
   },
   "file_extension": ".py",
   "mimetype": "text/x-python",
   "name": "python",
   "nbconvert_exporter": "python",
   "pygments_lexer": "ipython3",
   "version": "3.10.10"
  }
 },
 "nbformat": 4,
 "nbformat_minor": 2
}
