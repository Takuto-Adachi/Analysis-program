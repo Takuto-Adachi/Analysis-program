{
 "cells": [
  {
   "cell_type": "code",
   "execution_count": 57,
   "metadata": {},
   "outputs": [],
   "source": [
    "#数値計算ライブラリ\n",
    "import numpy as np\n",
    "import pandas as pd\n",
    "\n",
    "#可視化ライブラリ\n",
    "import matplotlib.pyplot as plt\n",
    "import japanize_matplotlib\n",
    "import seaborn as sns\n",
    "\n",
    "#sklearnの標準化モジュールをインポート\n",
    "from sklearn.preprocessing import StandardScaler\n",
    "from sklearn.decomposition import FactorAnalysis as FA\n",
    "from sklearn.decomposition import PCA"
   ]
  },
  {
   "cell_type": "code",
   "execution_count": 58,
   "metadata": {},
   "outputs": [
    {
     "name": "stdout",
     "output_type": "stream",
     "text": [
      "         通常       ワープ         前        後ろ      ゆったり\n",
      "0  0.521053  0.023684  0.284210  0.342105  0.113158\n",
      "1  0.371053  0.026316  0.057895  0.144737  0.236842\n",
      "2  0.397368  0.044737  0.205263  0.039474  0.260526\n",
      "3  0.221053  0.376316  0.744737  0.376316  0.639474\n",
      "4  0.471053  0.000000  0.331579  0.197368  0.018421\n",
      "5  0.752632  0.205263  0.244737  0.589474  0.413158\n",
      "6  0.594737  0.339474  0.713158  0.565789  0.534211\n",
      "7  0.352632  0.455263  0.397368  0.292105  0.778947\n",
      "8  0.684211  0.165790  0.413158  0.236842  0.807895\n",
      "9  0.981579  0.494737  0.807895  0.328947  0.776316\n"
     ]
    }
   ],
   "source": [
    "#Excel読み込み\n",
    "df = pd.read_excel(\"genzitu.xlsx\")\n",
    "print(df)"
   ]
  },
  {
   "cell_type": "code",
   "execution_count": 59,
   "metadata": {},
   "outputs": [
    {
     "name": "stdout",
     "output_type": "stream",
     "text": [
      "[0.5210527  0.02368421 0.2842105  0.3421053  0.1131579  0.3710526\n",
      " 0.02631579 0.05789474 0.1447368  0.2368421  0.3973684  0.04473684\n",
      " 0.2052632  0.03947368 0.2605263  0.2210526  0.3763158  0.7447369\n",
      " 0.3763158  0.6394737  0.4710526  0.         0.3315789  0.1973684\n",
      " 0.01842105 0.7526316  0.2052632  0.2447368  0.5894737  0.4131579\n",
      " 0.5947368  0.3394737  0.7131579  0.5657895  0.5342105  0.3526316\n",
      " 0.4552632  0.3973684  0.2921053  0.7789474  0.6842105  0.1657895\n",
      " 0.4131579  0.2368421  0.8078948  0.9815789  0.4947369  0.8078948\n",
      " 0.3289474  0.7763158 ]\n"
     ]
    }
   ],
   "source": [
    "# 行列を1次元配列に変換\n",
    "data = df.values.flatten()\n",
    "\n",
    "print(data)"
   ]
  },
  {
   "cell_type": "code",
   "execution_count": 60,
   "metadata": {},
   "outputs": [
    {
     "name": "stdout",
     "output_type": "stream",
     "text": [
      "Statistical Test Result:\n",
      "Test Statistic: 0.9627791047096252\n",
      "p-value: 0.11623255163431168\n",
      "データは正規分布に従う可能性があります\n"
     ]
    }
   ],
   "source": [
    "from scipy.stats import shapiro\n",
    "\n",
    "# シャピロ–ウィルク検定を実行する\n",
    "statistic, p_value = shapiro(data)\n",
    "\n",
    "# 結果を出力する\n",
    "print(\"Statistical Test Result:\")\n",
    "print(\"Test Statistic:\", statistic)\n",
    "print(\"p-value:\", p_value)\n",
    "\n",
    "# 有意水準を0.05として検定結果を判定する\n",
    "alpha = 0.05\n",
    "if p_value > alpha:\n",
    "    print(\"データは正規分布に従う可能性があります\")\n",
    "else:\n",
    "    print(\"データは正規分布に従わない可能性があります\")"
   ]
  }
 ],
 "metadata": {
  "kernelspec": {
   "display_name": "env",
   "language": "python",
   "name": "python3"
  },
  "language_info": {
   "codemirror_mode": {
    "name": "ipython",
    "version": 3
   },
   "file_extension": ".py",
   "mimetype": "text/x-python",
   "name": "python",
   "nbconvert_exporter": "python",
   "pygments_lexer": "ipython3",
   "version": "3.10.10"
  }
 },
 "nbformat": 4,
 "nbformat_minor": 2
}
