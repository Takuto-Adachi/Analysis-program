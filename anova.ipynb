{
 "cells": [
  {
   "cell_type": "code",
   "execution_count": 1,
   "metadata": {},
   "outputs": [],
   "source": [
    "#数値計算ライブラリ\n",
    "import numpy as np\n",
    "import pandas as pd\n",
    "\n",
    "#可視化ライブラリ\n",
    "import matplotlib.pyplot as plt\n",
    "import japanize_matplotlib\n",
    "import seaborn as sns\n",
    "\n",
    "#sklearnの標準化モジュールをインポート\n",
    "from sklearn.preprocessing import StandardScaler\n",
    "from sklearn.decomposition import FactorAnalysis as FA\n",
    "from sklearn.decomposition import PCA"
   ]
  },
  {
   "cell_type": "code",
   "execution_count": 2,
   "metadata": {},
   "outputs": [
    {
     "name": "stdout",
     "output_type": "stream",
     "text": [
      "          C         O         Q         S         U         W\n",
      "0  4.491619  6.071742  4.341569  3.972580  3.365325  3.949754\n",
      "1  5.564520  5.849113  2.366631  6.138897  6.252771  4.527654\n",
      "2  4.282135  5.762262  4.369843  4.091135  0.714267  3.635123\n",
      "3  4.400451  4.002491  4.989147  4.051350  1.929698  4.193764\n",
      "4  5.892735  7.993176  7.170431  7.247941  5.704853  6.493028\n",
      "5  4.875644  4.626341  2.233793  4.358134  2.966572  4.249605\n",
      "6  5.249652  6.604725  4.801618  6.376952  6.187214  4.799123\n",
      "7  2.644554  3.111546  3.105078  3.911721  3.316955  4.107521\n",
      "8  5.175384  7.396845  4.434291  4.212060  5.625652  3.767117\n"
     ]
    }
   ],
   "source": [
    "#Excel読み込み\n",
    "df = pd.read_excel(\"kaiseki.xlsx\")\n",
    "print(df)"
   ]
  },
  {
   "cell_type": "code",
   "execution_count": 3,
   "metadata": {},
   "outputs": [
    {
     "name": "stdout",
     "output_type": "stream",
     "text": [
      "F値: 1.678403809230301 p値: 0.15791479000633188\n"
     ]
    }
   ],
   "source": [
    "from scipy.stats import f_oneway\n",
    "\n",
    "F_stat, p_value = f_oneway(df[\"C\"], df[\"O\"], df[\"Q\"], df[\"S\"], df[\"U\"], df[\"W\"])\n",
    "print(\"F値:\", F_stat, \"p値:\", p_value)"
   ]
  },
  {
   "cell_type": "code",
   "execution_count": 4,
   "metadata": {},
   "outputs": [
    {
     "name": "stdout",
     "output_type": "stream",
     "text": [
      "H値: 6.323456790123458 p値: 0.2760050492267055\n"
     ]
    }
   ],
   "source": [
    "from scipy.stats import kruskal\n",
    "\n",
    "H_stat, p_value = kruskal(df[\"C\"], df[\"O\"], df[\"Q\"], df[\"S\"], df[\"U\"], df[\"W\"])\n",
    "print(\"H値:\", H_stat, \"p値:\", p_value)"
   ]
  },
  {
   "cell_type": "code",
   "execution_count": 6,
   "metadata": {},
   "outputs": [
    {
     "name": "stdout",
     "output_type": "stream",
     "text": [
      "     1         2        3    4         5         6\n",
      "1  1.0  1.000000  1.00000  1.0  1.000000  1.000000\n",
      "2  1.0  1.000000  0.82719  1.0  0.559413  0.771784\n",
      "3  1.0  0.827190  1.00000  1.0  1.000000  1.000000\n",
      "4  1.0  1.000000  1.00000  1.0  1.000000  1.000000\n",
      "5  1.0  0.559413  1.00000  1.0  1.000000  1.000000\n",
      "6  1.0  0.771784  1.00000  1.0  1.000000  1.000000\n"
     ]
    }
   ],
   "source": [
    "import scikit_posthocs as sp\n",
    "data = [df[\"C\"], df[\"O\"], df[\"Q\"], df[\"S\"], df[\"U\"], df[\"W\"]]\n",
    "dunn_result = sp.posthoc_dunn(data, p_adjust=\"bonferroni\")\n",
    "print(dunn_result)\n"
   ]
  }
 ],
 "metadata": {
  "kernelspec": {
   "display_name": "env",
   "language": "python",
   "name": "python3"
  },
  "language_info": {
   "codemirror_mode": {
    "name": "ipython",
    "version": 3
   },
   "file_extension": ".py",
   "mimetype": "text/x-python",
   "name": "python",
   "nbconvert_exporter": "python",
   "pygments_lexer": "ipython3",
   "version": "3.10.10"
  }
 },
 "nbformat": 4,
 "nbformat_minor": 2
}
