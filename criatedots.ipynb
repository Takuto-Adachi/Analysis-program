{
 "cells": [
  {
   "cell_type": "code",
   "execution_count": 9,
   "metadata": {},
   "outputs": [
    {
     "name": "stdout",
     "output_type": "stream",
     "text": [
      "座標をrandom_dots2223.csvに保存しました。\n"
     ]
    }
   ],
   "source": [
    "import numpy as np\n",
    "import pandas as pd\n",
    "\n",
    "# ドットの数\n",
    "num_dots = 2000\n",
    "\n",
    "# 範囲\n",
    "x_range = (-4500, 0)\n",
    "y_range = (-20, 20)\n",
    "z_range = (0, 40)\n",
    "\n",
    "# 各座標範囲内でランダムに値を生成\n",
    "x_coords = np.random.uniform(x_range[0], x_range[1], num_dots)\n",
    "y_coords = np.random.uniform(y_range[0], y_range[1], num_dots)\n",
    "z_coords = np.random.uniform(z_range[0], z_range[1], num_dots)\n",
    "\n",
    "# 生成された座標をまとめる\n",
    "dots = np.column_stack((x_coords, y_coords, z_coords))\n",
    "\n",
    "# pandasのDataFrameに変換\n",
    "df = pd.DataFrame(dots, columns=[\"x\", \"y\", \"z\"])\n",
    "\n",
    "# CSVファイルに出力\n",
    "csv_filename = \"random_dots2223.csv\"\n",
    "df.to_csv(csv_filename, index=False)\n",
    "\n",
    "print(f\"座標を{csv_filename}に保存しました。\")\n"
   ]
  }
 ],
 "metadata": {
  "kernelspec": {
   "display_name": "env",
   "language": "python",
   "name": "python3"
  },
  "language_info": {
   "codemirror_mode": {
    "name": "ipython",
    "version": 3
   },
   "file_extension": ".py",
   "mimetype": "text/x-python",
   "name": "python",
   "nbconvert_exporter": "python",
   "pygments_lexer": "ipython3",
   "version": "3.10.10"
  }
 },
 "nbformat": 4,
 "nbformat_minor": 2
}
