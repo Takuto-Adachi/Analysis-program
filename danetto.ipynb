{
 "cells": [
  {
   "cell_type": "code",
   "execution_count": 58,
   "metadata": {},
   "outputs": [],
   "source": [
    "#数値計算ライブラリ\n",
    "import numpy as np\n",
    "import pandas as pd\n",
    "\n",
    "#可視化ライブラリ\n",
    "import matplotlib.pyplot as plt\n",
    "import japanize_matplotlib\n",
    "import seaborn as sns\n",
    "\n",
    "#sklearnの標準化モジュールをインポート\n",
    "from sklearn.preprocessing import StandardScaler\n",
    "from sklearn.decomposition import FactorAnalysis as FA\n",
    "from sklearn.decomposition import PCA"
   ]
  },
  {
   "cell_type": "code",
   "execution_count": 59,
   "metadata": {},
   "outputs": [
    {
     "name": "stdout",
     "output_type": "stream",
     "text": [
      "    通常  ワープ    前   後ろ  ゆったり\n",
      "0    0    0    0  500     0\n",
      "1   10   20   40   50    20\n",
      "2  100    0  200  100   100\n",
      "3   50   20   90   70    50\n",
      "4    0    0  350  450     0\n",
      "5    5    0   70   45    20\n",
      "6    0    0   30  130     0\n",
      "7   30   50   50  130     0\n",
      "8   30    0   50   80    10\n",
      "9    0    0   30   40     0\n"
     ]
    }
   ],
   "source": [
    "#Excel読み込み\n",
    "df = pd.read_excel(\"sokudosa.xlsx\")\n",
    "print(df)"
   ]
  },
  {
   "cell_type": "code",
   "execution_count": 60,
   "metadata": {},
   "outputs": [
    {
     "name": "stdout",
     "output_type": "stream",
     "text": [
      "          1         2         3         4         5\n",
      "1  1.000000  0.335081  0.040049  0.001504  0.789891\n",
      "2  0.335081  1.000000  0.002551  0.000035  0.485504\n",
      "3  0.040049  0.002551  1.000000  0.262430  0.020357\n",
      "4  0.001504  0.000035  0.262430  1.000000  0.000581\n",
      "5  0.789891  0.485504  0.020357  0.000581  1.000000\n"
     ]
    }
   ],
   "source": [
    "from scikit_posthocs import posthoc_dunn\n",
    "\n",
    "result = posthoc_dunn([df[\"通常\"],df[\"ワープ\"],df[\"前\"],df[\"後ろ\"],df[\"ゆったり\"]])\n",
    "\n",
    "print(result)"
   ]
  },
  {
   "cell_type": "code",
   "execution_count": null,
   "metadata": {},
   "outputs": [],
   "source": []
  }
 ],
 "metadata": {
  "kernelspec": {
   "display_name": "env",
   "language": "python",
   "name": "python3"
  },
  "language_info": {
   "codemirror_mode": {
    "name": "ipython",
    "version": 3
   },
   "file_extension": ".py",
   "mimetype": "text/x-python",
   "name": "python",
   "nbconvert_exporter": "python",
   "pygments_lexer": "ipython3",
   "version": "3.10.10"
  }
 },
 "nbformat": 4,
 "nbformat_minor": 2
}
