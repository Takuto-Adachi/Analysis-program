{
 "cells": [
  {
   "cell_type": "code",
   "execution_count": 38,
   "metadata": {},
   "outputs": [],
   "source": [
    "#数値計算ライブラリ\n",
    "import numpy as np\n",
    "import pandas as pd\n",
    "\n",
    "#可視化ライブラリ\n",
    "import matplotlib.pyplot as plt\n",
    "import japanize_matplotlib\n",
    "import seaborn as sns\n",
    "\n",
    "#sklearnの標準化モジュールをインポート\n",
    "from sklearn.preprocessing import StandardScaler\n",
    "from sklearn.decomposition import FactorAnalysis as FA\n",
    "from sklearn.decomposition import PCA\n",
    "\n",
    "from scipy import stats"
   ]
  },
  {
   "cell_type": "code",
   "execution_count": 39,
   "metadata": {},
   "outputs": [
    {
     "name": "stdout",
     "output_type": "stream",
     "text": [
      "   通常  ワープ   前  後ろ  ゆったり\n",
      "0   1    1   4   5     4\n",
      "1   0    0   0   2     2\n",
      "2   2    2   4   0    -2\n",
      "3  -1    0   0  -2    -1\n",
      "4  -3   -3  -5  -3     0\n",
      "5   7   -5  -2  -5   -12\n",
      "6   1    0  -2   3     2\n",
      "7  -4   -7 -15  -3     1\n",
      "8  -4   -7  -1 -10    -6\n",
      "9   0   -1   1  -3    -3\n"
     ]
    },
    {
     "data": {
      "image/png": "[encoded data removed]",
      "text/plain": [
       "<Figure size 640x480 with 1 Axes>"
      ]
     },
     "metadata": {},
     "output_type": "display_data"
    }
   ],
   "source": [
    "#Excel読み込み\n",
    "df = pd.read_excel(\"kibun.xlsx\")\n",
    "print(df)\n",
    "\n",
    "sns.boxplot(data=df, palette=\"Set3\")\n",
    "plt.ylabel('安定度')\n",
    "\n",
    "plt.show()"
   ]
  },
  {
   "cell_type": "code",
   "execution_count": 40,
   "metadata": {},
   "outputs": [
    {
     "name": "stdout",
     "output_type": "stream",
     "text": [
      "t統計量: 1.5876267107027553\n",
      "p値: 0.14683310682666642\n"
     ]
    }
   ],
   "source": [
    "# 対応ありのt検定の実行\n",
    "t_statistic, p_value = stats.ttest_rel(df[\"通常\"], df[\"ワープ\"])\n",
    "\n",
    "# 結果の表示\n",
    "print(\"t統計量:\", t_statistic)\n",
    "print(\"p値:\", p_value)"
   ]
  },
  {
   "cell_type": "code",
   "execution_count": 41,
   "metadata": {},
   "outputs": [
    {
     "name": "stdout",
     "output_type": "stream",
     "text": [
      "t統計量: 0.9671271234844027\n",
      "p値: 0.35874887264180144\n"
     ]
    }
   ],
   "source": [
    "# 対応ありのt検定の実行\n",
    "t_statistic, p_value = stats.ttest_rel(df[\"通常\"], df[\"前\"])\n",
    "\n",
    "# 結果の表示\n",
    "print(\"t統計量:\", t_statistic)\n",
    "print(\"p値:\", p_value)"
   ]
  },
  {
   "cell_type": "code",
   "execution_count": 42,
   "metadata": {},
   "outputs": [
    {
     "name": "stdout",
     "output_type": "stream",
     "text": [
      "t統計量: 1.0151523782886185\n",
      "p値: 0.33654519714885806\n"
     ]
    }
   ],
   "source": [
    "# 対応ありのt検定の実行\n",
    "t_statistic, p_value = stats.ttest_rel(df[\"通常\"], df[\"後ろ\"])\n",
    "\n",
    "# 結果の表示\n",
    "print(\"t統計量:\", t_statistic)\n",
    "print(\"p値:\", p_value)"
   ]
  },
  {
   "cell_type": "code",
   "execution_count": 43,
   "metadata": {},
   "outputs": [
    {
     "name": "stdout",
     "output_type": "stream",
     "text": [
      "t統計量: 0.6493120348082615\n",
      "p値: 0.532355428468272\n"
     ]
    }
   ],
   "source": [
    "# 対応ありのt検定の実行\n",
    "t_statistic, p_value = stats.ttest_rel(df[\"通常\"], df[\"ゆったり\"])\n",
    "\n",
    "# 結果の表示\n",
    "print(\"t統計量:\", t_statistic)\n",
    "print(\"p値:\", p_value)"
   ]
  },
  {
   "cell_type": "code",
   "execution_count": 44,
   "metadata": {},
   "outputs": [
    {
     "name": "stdout",
     "output_type": "stream",
     "text": [
      "t統計量: -0.32978982595758766\n",
      "p値: 0.7491050389818424\n"
     ]
    }
   ],
   "source": [
    "# 対応ありのt検定の実行\n",
    "t_statistic, p_value = stats.ttest_rel(df[\"ワープ\"], df[\"前\"])\n",
    "\n",
    "# 結果の表示\n",
    "print(\"t統計量:\", t_statistic)\n",
    "print(\"p値:\", p_value)"
   ]
  },
  {
   "cell_type": "code",
   "execution_count": 45,
   "metadata": {},
   "outputs": [
    {
     "name": "stdout",
     "output_type": "stream",
     "text": [
      "t統計量: -0.47286624374346037\n",
      "p値: 0.6475660533770973\n"
     ]
    }
   ],
   "source": [
    "# 対応ありのt検定の実行\n",
    "t_statistic, p_value = stats.ttest_rel(df[\"ワープ\"], df[\"後ろ\"])\n",
    "\n",
    "# 結果の表示\n",
    "print(\"t統計量:\", t_statistic)\n",
    "print(\"p値:\", p_value)"
   ]
  },
  {
   "cell_type": "code",
   "execution_count": 46,
   "metadata": {},
   "outputs": [
    {
     "name": "stdout",
     "output_type": "stream",
     "text": [
      "t統計量: -0.37677026947749626\n",
      "p値: 0.7150739786788896\n"
     ]
    }
   ],
   "source": [
    "# 対応ありのt検定の実行\n",
    "t_statistic, p_value = stats.ttest_rel(df[\"ワープ\"], df[\"ゆったり\"])\n",
    "\n",
    "# 結果の表示\n",
    "print(\"t統計量:\", t_statistic)\n",
    "print(\"p値:\", p_value)"
   ]
  },
  {
   "cell_type": "code",
   "execution_count": 47,
   "metadata": {},
   "outputs": [
    {
     "name": "stdout",
     "output_type": "stream",
     "text": [
      "t統計量: 0.0\n",
      "p値: 1.0\n"
     ]
    }
   ],
   "source": [
    "# 対応ありのt検定の実行\n",
    "t_statistic, p_value = stats.ttest_rel(df[\"前\"], df[\"後ろ\"])\n",
    "\n",
    "# 結果の表示\n",
    "print(\"t統計量:\", t_statistic)\n",
    "print(\"p値:\", p_value)"
   ]
  },
  {
   "cell_type": "code",
   "execution_count": 48,
   "metadata": {},
   "outputs": [
    {
     "name": "stdout",
     "output_type": "stream",
     "text": [
      "t統計量: -0.04335097166873073\n",
      "p値: 0.9663683234803105\n"
     ]
    }
   ],
   "source": [
    "# 対応ありのt検定の実行\n",
    "t_statistic, p_value = stats.ttest_rel(df[\"前\"], df[\"ゆったり\"])\n",
    "\n",
    "# 結果の表示\n",
    "print(\"t統計量:\", t_statistic)\n",
    "print(\"p値:\", p_value)"
   ]
  },
  {
   "cell_type": "code",
   "execution_count": 49,
   "metadata": {},
   "outputs": [
    {
     "name": "stdout",
     "output_type": "stream",
     "text": [
      "t統計量: -0.09637388493048535\n",
      "p値: 0.9253355408281354\n"
     ]
    }
   ],
   "source": [
    "# 対応ありのt検定の実行\n",
    "t_statistic, p_value = stats.ttest_rel(df[\"後ろ\"], df[\"ゆったり\"])\n",
    "\n",
    "# 結果の表示\n",
    "print(\"t統計量:\", t_statistic)\n",
    "print(\"p値:\", p_value)"
   ]
  },
  {
   "cell_type": "code",
   "execution_count": 50,
   "metadata": {},
   "outputs": [
    {
     "name": "stdout",
     "output_type": "stream",
     "text": [
      "t-statistic: -1.5600090764428491\n",
      "p-value: 0.1470474939053279\n"
     ]
    }
   ],
   "source": [
    "from scipy import stats\n",
    "\n",
    "# 投与前後の血圧測定値の差を定義します\n",
    "score_diff = [2,-5,-4,-8,3,0,3,-6,-2,1,0,-4]  # 投与前後の血圧測定値の差\n",
    "\n",
    "# 1標本t検定\n",
    "t_statistic, p_value = stats.ttest_1samp(score_diff, 0)\n",
    "\n",
    "# 結果を出力\n",
    "print(\"t-statistic:\", t_statistic)\n",
    "print(\"p-value:\", p_value)"
   ]
  }
 ],
 "metadata": {
  "kernelspec": {
   "display_name": "env",
   "language": "python",
   "name": "python3"
  },
  "language_info": {
   "codemirror_mode": {
    "name": "ipython",
    "version": 3
   },
   "file_extension": ".py",
   "mimetype": "text/x-python",
   "name": "python",
   "nbconvert_exporter": "python",
   "pygments_lexer": "ipython3",
   "version": "3.10.10"
  }
 },
 "nbformat": 4,
 "nbformat_minor": 2
}
