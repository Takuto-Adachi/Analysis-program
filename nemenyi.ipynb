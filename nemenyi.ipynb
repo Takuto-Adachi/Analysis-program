{
 "cells": [
  {
   "cell_type": "code",
   "execution_count": 1,
   "metadata": {},
   "outputs": [],
   "source": [
    "#数値計算ライブラリ\n",
    "import numpy as np\n",
    "import pandas as pd\n",
    "\n",
    "#可視化ライブラリ\n",
    "import matplotlib.pyplot as plt\n",
    "import japanize_matplotlib\n",
    "import seaborn as sns\n",
    "\n",
    "#sklearnの標準化モジュールをインポート\n",
    "from sklearn.preprocessing import StandardScaler\n",
    "from sklearn.decomposition import FactorAnalysis as FA\n",
    "from sklearn.decomposition import PCA"
   ]
  },
  {
   "cell_type": "code",
   "execution_count": 2,
   "metadata": {},
   "outputs": [
    {
     "name": "stdout",
     "output_type": "stream",
     "text": [
      "          C         O         Q         S         U         W\n",
      "0  4.491619  6.071742  4.341569  3.972580  3.365325  3.949754\n",
      "1  5.564520  5.849113  2.366631  6.138897  6.252771  4.527654\n",
      "2  4.282135  5.762262  4.369843  4.091135  0.714267  3.635123\n",
      "3  4.400451  4.002491  4.989147  4.051350  1.929698  4.193764\n",
      "4  5.892735  7.993176  7.170431  7.247941  5.704853  6.493028\n",
      "5  4.875644  4.626341  2.233793  4.358134  2.966572  4.249605\n",
      "6  5.249652  6.604725  4.801618  6.376952  6.187214  4.799123\n",
      "7  2.644554  3.111546  3.105078  3.911721  3.316955  4.107521\n",
      "8  5.175384  7.396845  4.434291  4.212060  5.625652  3.767117\n"
     ]
    }
   ],
   "source": [
    "#Excel読み込み\n",
    "df = pd.read_excel(\"tazyukaiseki.xlsx\")\n",
    "print(df)"
   ]
  },
  {
   "cell_type": "code",
   "execution_count": 5,
   "metadata": {},
   "outputs": [
    {
     "name": "stdout",
     "output_type": "stream",
     "text": [
      "フリードマン検定: 統計量=8.936507936507923, p値=0.11162359947181058\n"
     ]
    }
   ],
   "source": [
    "import numpy as np\n",
    "import scipy.stats as stats\n",
    "import scikit_posthocs as sp\n",
    "\n",
    "# フリードマン検定\n",
    "stat, p = stats.friedmanchisquare(df[\"C\"],df[\"O\"],df[\"Q\"],df[\"S\"],df[\"U\"],df[\"W\"])\n",
    "print(f\"フリードマン検定: 統計量={stat}, p値={p}\")\n",
    "\n",
    "# ネメニー検定（多重比較）\n",
    "if p < 0.05:\n",
    "    posthoc = sp.posthoc_nemenyi_friedman(df)\n",
    "    print(\"ネメニー検定結果:\")\n",
    "    print(posthoc)"
   ]
  },
  {
   "cell_type": "code",
   "execution_count": 8,
   "metadata": {},
   "outputs": [
    {
     "name": "stdout",
     "output_type": "stream",
     "text": [
      "ネメニー検定結果:\n",
      "          C         O         Q         S         U         W\n",
      "C  1.000000  0.735651  0.988824  0.999863  0.915506  0.867362\n",
      "O  0.735651  1.000000  0.333136  0.867362  0.158277  0.118275\n",
      "Q  0.988824  0.333136  1.000000  0.950938  0.999002  0.996043\n",
      "S  0.999863  0.867362  0.950938  1.000000  0.806843  0.735651\n",
      "U  0.915506  0.158277  0.999002  0.806843  1.000000  0.999996\n",
      "W  0.867362  0.118275  0.996043  0.735651  0.999996  1.000000\n"
     ]
    }
   ],
   "source": [
    "posthoc = sp.posthoc_nemenyi_friedman(df)\n",
    "print(\"ネメニー検定結果:\")\n",
    "print(posthoc)"
   ]
  },
  {
   "cell_type": "code",
   "execution_count": 6,
   "metadata": {},
   "outputs": [
    {
     "name": "stdout",
     "output_type": "stream",
     "text": [
      "           J         N         P         R         T         V\n",
      "0   6.071502  5.701318  2.524164  3.932107  2.045098  2.611557\n",
      "1   6.253964  7.246873  4.481982  8.698149  2.972016  7.615094\n",
      "2   2.982837  4.706232  4.213136  6.321026  3.198628  3.415916\n",
      "3   6.758968  9.854974  3.865771  5.234107  2.702334  3.393884\n",
      "4   4.414864  5.280140  3.588287  5.834928  3.289670  5.290811\n",
      "5   5.347713  5.012598  2.810920  3.877223  2.468509  1.615736\n",
      "6   3.144019  3.224690  2.934483  2.178018  1.876700  1.423692\n",
      "7   3.400234  4.917833  3.455706  4.449678  1.828030  2.900446\n",
      "8   4.250325  6.439432  2.949265  5.549154  3.171441  3.350110\n",
      "9   5.604115  3.691098  2.002499  2.024883  2.116975  3.894376\n",
      "10  3.289207  8.610598  5.667649  5.624038  3.678631  3.580953\n",
      "11  4.205442  4.094441  3.065208  2.391115  2.089554  1.660145\n",
      "12  3.038291  5.135325  2.121947  2.258073  2.006277  1.767704\n",
      "13  6.252660  7.594008  6.533984  8.625620  5.030362  5.668200\n",
      "14  6.028090  9.222381  4.669331  6.192754  2.912076  4.832633\n",
      "15  6.626409  5.449517  3.426311  5.999099  4.720249  3.762578\n",
      "16  2.620724  6.043369  2.408749  1.917001  2.232795  6.253256\n"
     ]
    }
   ],
   "source": [
    "#Excel読み込み\n",
    "df2 = pd.read_excel(\"tazyukaiseki2.xlsx\")\n",
    "print(df2)"
   ]
  },
  {
   "cell_type": "code",
   "execution_count": 7,
   "metadata": {},
   "outputs": [
    {
     "name": "stdout",
     "output_type": "stream",
     "text": [
      "フリードマン検定: 統計量=38.41176470588232, p値=3.118634184939571e-07\n",
      "ネメニー検定結果:\n",
      "          C         O         Q         S         U         W\n",
      "C  1.000000  0.735651  0.988824  0.999863  0.915506  0.867362\n",
      "O  0.735651  1.000000  0.333136  0.867362  0.158277  0.118275\n",
      "Q  0.988824  0.333136  1.000000  0.950938  0.999002  0.996043\n",
      "S  0.999863  0.867362  0.950938  1.000000  0.806843  0.735651\n",
      "U  0.915506  0.158277  0.999002  0.806843  1.000000  0.999996\n",
      "W  0.867362  0.118275  0.996043  0.735651  0.999996  1.000000\n"
     ]
    }
   ],
   "source": [
    "# フリードマン検定\n",
    "stat, p = stats.friedmanchisquare(df2[\"J\"],df2[\"N\"],df2[\"P\"],df2[\"R\"],df2[\"T\"],df2[\"V\"])\n",
    "print(f\"フリードマン検定: 統計量={stat}, p値={p}\")\n",
    "\n",
    "# ネメニー検定（多重比較）\n",
    "if p < 0.05:\n",
    "    posthoc = sp.posthoc_nemenyi_friedman(df)\n",
    "    print(\"ネメニー検定結果:\")\n",
    "    print(posthoc)"
   ]
  }
 ],
 "metadata": {
  "kernelspec": {
   "display_name": "env",
   "language": "python",
   "name": "python3"
  },
  "language_info": {
   "codemirror_mode": {
    "name": "ipython",
    "version": 3
   },
   "file_extension": ".py",
   "mimetype": "text/x-python",
   "name": "python",
   "nbconvert_exporter": "python",
   "pygments_lexer": "ipython3",
   "version": "3.10.10"
  }
 },
 "nbformat": 4,
 "nbformat_minor": 2
}
