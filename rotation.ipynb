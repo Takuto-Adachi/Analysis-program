{
 "cells": [
  {
   "cell_type": "code",
   "execution_count": 43,
   "metadata": {},
   "outputs": [],
   "source": [
    "#数値計算ライブラリ\n",
    "import numpy as np\n",
    "import pandas as pd\n",
    "\n",
    "#可視化ライブラリ\n",
    "import matplotlib.pyplot as plt\n",
    "import japanize_matplotlib\n",
    "import seaborn as sns\n",
    "\n",
    "#sklearnの標準化モジュールをインポート\n",
    "from sklearn.preprocessing import StandardScaler\n",
    "from sklearn.decomposition import FactorAnalysis as FA\n",
    "from sklearn.decomposition import PCA\n",
    "\n",
    "from scipy import stats"
   ]
  },
  {
   "cell_type": "code",
   "execution_count": 44,
   "metadata": {},
   "outputs": [
    {
     "name": "stdout",
     "output_type": "stream",
     "text": [
      "         rot.x     rot.y       rot.z  difference      jump\n",
      "0     356.9374  4.858586    3.020933    0.018854       NaN\n",
      "1     357.1627  4.968294    3.026155    0.047832  0.028978\n",
      "2     357.3042  5.149044    3.013267    0.076439  0.028607\n",
      "3     357.3350  5.346270    2.956370    0.104333  0.027894\n",
      "4     357.2595  5.495182    2.904160    0.131172  0.026839\n",
      "...        ...       ...         ...         ...       ...\n",
      "1278  358.1942  6.235544  359.264800    0.124478 -0.020810\n",
      "1279  357.9468  6.044070  359.215300    0.102591 -0.021887\n",
      "1280  357.6147  5.855862  359.251500    0.079764 -0.022827\n",
      "1281  357.2443  5.655089  359.285400    0.056211 -0.023553\n",
      "1282  356.8098  5.440403  359.316400    0.030958 -0.025253\n",
      "\n",
      "[1283 rows x 5 columns]\n"
     ]
    }
   ],
   "source": [
    "#Excel読み込み\n",
    "df = pd.read_excel(\"rate100.xlsx\")\n",
    "print(df)"
   ]
  },
  {
   "cell_type": "code",
   "execution_count": 45,
   "metadata": {},
   "outputs": [
    {
     "name": "stdout",
     "output_type": "stream",
     "text": [
      "0      -3.0626\n",
      "1      -2.8373\n",
      "2      -2.6958\n",
      "3      -2.6650\n",
      "4      -2.7405\n",
      "         ...  \n",
      "1278   -1.8058\n",
      "1279   -2.0532\n",
      "1280   -2.3853\n",
      "1281   -2.7557\n",
      "1282   -3.1902\n",
      "Name: rot.x, Length: 1283, dtype: float64\n"
     ]
    }
   ],
   "source": [
    "# rot.xを-180～180の範囲に変換\n",
    "df[\"rot.x\"] = df[\"rot.x\"].apply(lambda x: x - 360 if x > 180 else x)\n",
    "\n",
    "print(df[\"rot.x\"])"
   ]
  },
  {
   "cell_type": "code",
   "execution_count": 46,
   "metadata": {},
   "outputs": [
    {
     "name": "stdout",
     "output_type": "stream",
     "text": [
      "0       4.858586\n",
      "1       4.968294\n",
      "2       5.149044\n",
      "3       5.346270\n",
      "4       5.495182\n",
      "          ...   \n",
      "1278    6.235544\n",
      "1279    6.044070\n",
      "1280    5.855862\n",
      "1281    5.655089\n",
      "1282    5.440403\n",
      "Name: rot.y, Length: 1283, dtype: float64\n"
     ]
    }
   ],
   "source": [
    "# rot.yを-180～180の範囲に変換\n",
    "df[\"rot.y\"] = df[\"rot.y\"].apply(lambda x: x - 360 if x > 180 else x)\n",
    "\n",
    "print(df[\"rot.y\"])"
   ]
  },
  {
   "cell_type": "code",
   "execution_count": 47,
   "metadata": {},
   "outputs": [
    {
     "name": "stdout",
     "output_type": "stream",
     "text": [
      "0       3.020933\n",
      "1       3.026155\n",
      "2       3.013267\n",
      "3       2.956370\n",
      "4       2.904160\n",
      "          ...   \n",
      "1278   -0.735200\n",
      "1279   -0.784700\n",
      "1280   -0.748500\n",
      "1281   -0.714600\n",
      "1282   -0.683600\n",
      "Name: rot.z, Length: 1283, dtype: float64\n"
     ]
    }
   ],
   "source": [
    "# rot.zを-180～180の範囲に変換\n",
    "df[\"rot.z\"] = df[\"rot.z\"].apply(lambda x: x - 360 if x > 180 else x)\n",
    "\n",
    "print(df[\"rot.z\"])"
   ]
  },
  {
   "cell_type": "code",
   "execution_count": 48,
   "metadata": {},
   "outputs": [
    {
     "name": "stdout",
     "output_type": "stream",
     "text": [
      "               rot.x     rot.y     rot.z  difference      jump\n",
      "rot.x       1.000000  0.263329 -0.001033   -0.065043 -0.007202\n",
      "rot.y       0.263329  1.000000 -0.153445    0.100807  0.039588\n",
      "rot.z      -0.001033 -0.153445  1.000000    0.061364 -0.051071\n",
      "difference -0.065043  0.100807  0.061364    1.000000  0.086426\n",
      "jump       -0.007202  0.039588 -0.051071    0.086426  1.000000\n"
     ]
    }
   ],
   "source": [
    "# 列間の相関係数を計算\n",
    "correlation_matrix = df.corr()\n",
    "\n",
    "print(correlation_matrix)"
   ]
  },
  {
   "cell_type": "code",
   "execution_count": 49,
   "metadata": {},
   "outputs": [
    {
     "name": "stdout",
     "output_type": "stream",
     "text": [
      "x列の平均: -10.518954705354636\n",
      "y列の平均: 2.3590911659532345\n",
      "z列の平均: -0.3189129946656272\n"
     ]
    }
   ],
   "source": [
    "# 列全体の平均\n",
    "mean_x = df[\"rot.x\"].mean()\n",
    "mean_y = df[\"rot.y\"].mean()\n",
    "mean_z = df[\"rot.z\"].mean()\n",
    "\n",
    "print(f\"x列の平均: {mean_x}\")\n",
    "print(f\"y列の平均: {mean_y}\")\n",
    "print(f\"z列の平均: {mean_z}\")"
   ]
  },
  {
   "cell_type": "code",
   "execution_count": 50,
   "metadata": {},
   "outputs": [
    {
     "name": "stdout",
     "output_type": "stream",
     "text": [
      "上昇時のデータ:\n",
      "         rot.x     rot.y     rot.z  difference      jump\n",
      "0    -3.062600  4.858586  3.020933    0.018854  0.000000\n",
      "1    -2.837300  4.968294  3.026155    0.047832  0.028978\n",
      "2    -2.695800  5.149044  3.013267    0.076439  0.028607\n",
      "3    -2.665000  5.346270  2.956370    0.104333  0.027894\n",
      "4    -2.740500  5.495182  2.904160    0.131172  0.026839\n",
      "...        ...       ...       ...         ...       ...\n",
      "1257 -0.483400  8.564137 -1.091600    0.305471  0.005810\n",
      "1258 -0.074200  8.597111 -1.244300    0.309072  0.003602\n",
      "1259  0.408095  8.570617 -1.218300    0.311860  0.002787\n",
      "1260  0.580738  8.503983 -1.185900    0.313629  0.001769\n",
      "1261  0.498466  8.401485 -1.294600    0.314083  0.000454\n",
      "\n",
      "[639 rows x 5 columns]\n",
      "\n",
      "落下時のデータ:\n",
      "       rot.x     rot.y     rot.z  difference      jump\n",
      "23   -2.7353  2.536125  1.678463    0.337922 -0.000364\n",
      "24   -2.7570  2.442936  1.568888    0.337335 -0.000587\n",
      "25   -2.7531  2.386922  1.408977    0.334636 -0.002699\n",
      "26   -2.6052  2.335984  1.122373    0.330859 -0.003776\n",
      "27   -2.4432  2.283897  1.021931    0.325949 -0.004911\n",
      "...      ...       ...       ...         ...       ...\n",
      "1278 -1.8058  6.235544 -0.735200    0.124478 -0.020810\n",
      "1279 -2.0532  6.044070 -0.784700    0.102591 -0.021887\n",
      "1280 -2.3853  5.855862 -0.748500    0.079764 -0.022827\n",
      "1281 -2.7557  5.655089 -0.714600    0.056211 -0.023553\n",
      "1282 -3.1902  5.440403 -0.683600    0.030958 -0.025253\n",
      "\n",
      "[644 rows x 5 columns]\n"
     ]
    }
   ],
   "source": [
    "# NaNを0とみなした場合\n",
    "df[\"jump\"] = df[\"jump\"].fillna(0)\n",
    "\n",
    "# `jump`の値が正（> 0）と負または0（<= 0）のデータに分割\n",
    "positive_jump = df[df[\"jump\"] >= 0]\n",
    "negative_jump = df[df[\"jump\"] < 0]\n",
    "\n",
    "print(\"上昇時のデータ:\")\n",
    "print(positive_jump)\n",
    "\n",
    "print(\"\\n落下時のデータ:\")\n",
    "print(negative_jump)"
   ]
  },
  {
   "cell_type": "code",
   "execution_count": 51,
   "metadata": {},
   "outputs": [
    {
     "name": "stdout",
     "output_type": "stream",
     "text": [
      "x列の平均: -10.691980302347416\n",
      "y列の平均: 2.4029349019999997\n",
      "z列の平均: -0.4015496651799689\n"
     ]
    }
   ],
   "source": [
    "# 上昇時列全体の平均\n",
    "mean_xup = positive_jump[\"rot.x\"].mean()\n",
    "mean_yup = positive_jump[\"rot.y\"].mean()\n",
    "mean_zup = positive_jump[\"rot.z\"].mean()\n",
    "\n",
    "print(f\"x列の平均: {mean_xup}\")\n",
    "print(f\"y列の平均: {mean_yup}\")\n",
    "print(f\"z列の平均: {mean_zup}\")"
   ]
  },
  {
   "cell_type": "code",
   "execution_count": 52,
   "metadata": {},
   "outputs": [
    {
     "name": "stdout",
     "output_type": "stream",
     "text": [
      "x列の平均: -10.347272474798137\n",
      "y列の平均: 2.315587831583851\n",
      "z列の平均: -0.236917913208074\n"
     ]
    }
   ],
   "source": [
    "# 落下時列全体の平均\n",
    "mean_xdown = negative_jump[\"rot.x\"].mean()\n",
    "mean_ydown = negative_jump[\"rot.y\"].mean()\n",
    "mean_zdown = negative_jump[\"rot.z\"].mean()\n",
    "\n",
    "print(f\"x列の平均: {mean_xdown}\")\n",
    "print(f\"y列の平均: {mean_ydown}\")\n",
    "print(f\"z列の平均: {mean_zdown}\")"
   ]
  },
  {
   "cell_type": "code",
   "execution_count": 53,
   "metadata": {},
   "outputs": [
    {
     "name": "stdout",
     "output_type": "stream",
     "text": [
      "t値: -1.0012760338057396, p値: 0.31688249023412357\n"
     ]
    }
   ],
   "source": [
    "from scipy.stats import ttest_ind\n",
    "\n",
    "# t検定の実施\n",
    "t_stat, p_value = ttest_ind(positive_jump[\"rot.x\"], negative_jump[\"rot.x\"], equal_var=False)  # 等分散でない場合\n",
    "x_t_stat = t_stat\n",
    "x_p_value = p_value\n",
    "print(f\"t値: {x_t_stat}, p値: {x_p_value}\")"
   ]
  },
  {
   "cell_type": "code",
   "execution_count": 54,
   "metadata": {},
   "outputs": [
    {
     "name": "stdout",
     "output_type": "stream",
     "text": [
      "t値: 0.39162998522855424, p値: 0.6953967841902883\n"
     ]
    }
   ],
   "source": [
    "# t検定の実施\n",
    "t_stat, p_value = ttest_ind(positive_jump[\"rot.y\"], negative_jump[\"rot.y\"], equal_var=False)  # 等分散でない場合\n",
    "y_t_stat = t_stat\n",
    "y_p_value = p_value\n",
    "print(f\"t値: {y_t_stat}, p値: {y_p_value}\")"
   ]
  },
  {
   "cell_type": "code",
   "execution_count": 55,
   "metadata": {},
   "outputs": [
    {
     "name": "stdout",
     "output_type": "stream",
     "text": [
      "t値: -1.488159548108979, p値: 0.13695503376906432\n"
     ]
    }
   ],
   "source": [
    "# t検定の実施\n",
    "t_stat, p_value = ttest_ind(positive_jump[\"rot.z\"], negative_jump[\"rot.z\"], equal_var=False)  # 等分散でない場合\n",
    "z_t_stat = t_stat\n",
    "z_p_value = p_value\n",
    "print(f\"t値: {z_t_stat}, p値: {z_p_value}\")"
   ]
  },
  {
   "cell_type": "code",
   "execution_count": 56,
   "metadata": {},
   "outputs": [
    {
     "name": "stdout",
     "output_type": "stream",
     "text": [
      "CSVファイルにデータを書き込みました: output.csv\n"
     ]
    }
   ],
   "source": [
    "import csv\n",
    "\n",
    "# 保存するデータを辞書にまとめる\n",
    "data = {\n",
    "    \"mean_x\": mean_x,\n",
    "    \"mean_y\": mean_y,\n",
    "    \"mean_z\": mean_z,\n",
    "    \"mean_xup\": mean_xup,\n",
    "    \"mean_yup\": mean_yup,\n",
    "    \"mean_zup\": mean_zup,\n",
    "    \"mean_xdown\": mean_xdown,\n",
    "    \"mean_ydown\": mean_ydown,\n",
    "    \"mean_zdown\": mean_zdown,\n",
    "    \"x_t_stat\": x_t_stat,\n",
    "    \"x_p_value\": x_p_value,\n",
    "    \"y_t_stat\": y_t_stat,\n",
    "    \"y_p_value\": y_p_value,\n",
    "    \"z_t_stat\": z_t_stat,\n",
    "    \"z_p_value\": z_p_value,\n",
    "}\n",
    "\n",
    "# CSVファイルに書き込む\n",
    "with open(\"rate100ana.csv\", mode=\"w\", newline=\"\") as file:\n",
    "    writer = csv.writer(file)\n",
    "\n",
    "    # ヘッダーを書き込む\n",
    "    writer.writerow([\"Parameter\", \"Value\"])\n",
    "\n",
    "    # データを書き込む\n",
    "    for key, value in data.items():\n",
    "        writer.writerow([key, value])\n",
    "\n",
    "print(\"CSVファイルにデータを書き込みました: output.csv\")\n"
   ]
  }
 ],
 "metadata": {
  "kernelspec": {
   "display_name": "env",
   "language": "python",
   "name": "python3"
  },
  "language_info": {
   "codemirror_mode": {
    "name": "ipython",
    "version": 3
   },
   "file_extension": ".py",
   "mimetype": "text/x-python",
   "name": "python",
   "nbconvert_exporter": "python",
   "pygments_lexer": "ipython3",
   "version": "3.10.10"
  }
 },
 "nbformat": 4,
 "nbformat_minor": 2
}
