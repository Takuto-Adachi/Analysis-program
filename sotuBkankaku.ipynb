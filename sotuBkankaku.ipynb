{
 "cells": [
  {
   "cell_type": "code",
   "execution_count": 382,
   "metadata": {},
   "outputs": [],
   "source": [
    "#数値計算ライブラリ\n",
    "import numpy as np\n",
    "import pandas as pd\n",
    "\n",
    "#可視化ライブラリ\n",
    "import matplotlib.pyplot as plt\n",
    "import japanize_matplotlib\n",
    "import seaborn as sns\n",
    "\n",
    "#sklearnの標準化モジュールをインポート\n",
    "from sklearn.preprocessing import StandardScaler\n",
    "from sklearn.decomposition import FactorAnalysis as FA\n",
    "from sklearn.decomposition import PCA"
   ]
  },
  {
   "cell_type": "code",
   "execution_count": 383,
   "metadata": {},
   "outputs": [
    {
     "name": "stdout",
     "output_type": "stream",
     "text": [
      "    通常  ワープ    前   後ろ  ゆったり\n",
      "0    0    0    0  500     0\n",
      "1   10   20   40   50    20\n",
      "2  100    0  200  100   100\n",
      "3   50   20   90   70    50\n",
      "4    0    0  350  450     0\n",
      "5    5    0   70   45    20\n",
      "6    0    0   30  130     0\n",
      "7   30   50   50  130     0\n",
      "8   30    0   50   80    10\n",
      "9    0    0   30   40     0\n"
     ]
    }
   ],
   "source": [
    "#Excel読み込み\n",
    "df = pd.read_excel(\"sokudosa.xlsx\")\n",
    "print(df)"
   ]
  },
  {
   "cell_type": "code",
   "execution_count": 384,
   "metadata": {},
   "outputs": [
    {
     "data": {
      "image/png": "[encoded data removed]",
      "text/plain": [
       "<Figure size 640x480 with 1 Axes>"
      ]
     },
     "metadata": {},
     "output_type": "display_data"
    }
   ],
   "source": [
    "sns.boxplot(data=df, palette=\"Set3\")\n",
    "plt.ylabel('差')\n",
    "\n",
    "plt.show()"
   ]
  },
  {
   "cell_type": "code",
   "execution_count": 385,
   "metadata": {},
   "outputs": [
    {
     "name": "stdout",
     "output_type": "stream",
     "text": [
      "統計量: 5.0\n",
      "p値: 0.24756078730477016\n"
     ]
    },
    {
     "name": "stderr",
     "output_type": "stream",
     "text": [
      "c:\\Users\\Takuto\\Documents\\埼玉大学ヒューマンインターフェイス\\追実験\\python\\env\\lib\\site-packages\\scipy\\stats\\_morestats.py:4088: UserWarning: Exact p-value calculation does not work if there are zeros. Switching to normal approximation.\n",
      "  warnings.warn(\"Exact p-value calculation does not work if there are \"\n",
      "c:\\Users\\Takuto\\Documents\\埼玉大学ヒューマンインターフェイス\\追実験\\python\\env\\lib\\site-packages\\scipy\\stats\\_morestats.py:4102: UserWarning: Sample size too small for normal approximation.\n",
      "  warnings.warn(\"Sample size too small for normal approximation.\")\n"
     ]
    }
   ],
   "source": [
    "from scipy import stats\n",
    "\n",
    "statistic, p_value = stats.wilcoxon(df[\"通常\"],df[\"ワープ\"])\n",
    "\n",
    "print(\"統計量:\", statistic)\n",
    "print(\"p値:\", p_value)"
   ]
  },
  {
   "cell_type": "code",
   "execution_count": 386,
   "metadata": {},
   "outputs": [
    {
     "name": "stdout",
     "output_type": "stream",
     "text": [
      "統計量: 0.0\n",
      "p値: 0.007420961287866498\n"
     ]
    }
   ],
   "source": [
    "from scipy import stats\n",
    "\n",
    "statistic, p_value = stats.wilcoxon(df[\"通常\"],df[\"前\"])\n",
    "\n",
    "print(\"統計量:\", statistic)\n",
    "print(\"p値:\", p_value)"
   ]
  },
  {
   "cell_type": "code",
   "execution_count": 387,
   "metadata": {},
   "outputs": [
    {
     "name": "stdout",
     "output_type": "stream",
     "text": [
      "統計量: 0.0\n",
      "p値: 0.007473541540877042\n"
     ]
    }
   ],
   "source": [
    "from scipy import stats\n",
    "\n",
    "statistic, p_value = stats.wilcoxon(df[\"通常\"],df[\"後ろ\"])\n",
    "\n",
    "print(\"統計量:\", statistic)\n",
    "print(\"p値:\", p_value)"
   ]
  },
  {
   "cell_type": "code",
   "execution_count": 388,
   "metadata": {},
   "outputs": [
    {
     "name": "stdout",
     "output_type": "stream",
     "text": [
      "統計量: 3.0\n",
      "p値: 0.4652088184521418\n"
     ]
    }
   ],
   "source": [
    "from scipy import stats\n",
    "\n",
    "statistic, p_value = stats.wilcoxon(df[\"通常\"],df[\"ゆったり\"])\n",
    "\n",
    "print(\"統計量:\", statistic)\n",
    "print(\"p値:\", p_value)"
   ]
  },
  {
   "cell_type": "code",
   "execution_count": 389,
   "metadata": {},
   "outputs": [
    {
     "name": "stdout",
     "output_type": "stream",
     "text": [
      "統計量: 0.0\n",
      "p値: 0.011513828076845421\n"
     ]
    }
   ],
   "source": [
    "from scipy import stats\n",
    "\n",
    "statistic, p_value = stats.wilcoxon(df[\"ワープ\"],df[\"前\"])\n",
    "\n",
    "print(\"統計量:\", statistic)\n",
    "print(\"p値:\", p_value)"
   ]
  },
  {
   "cell_type": "code",
   "execution_count": 390,
   "metadata": {},
   "outputs": [
    {
     "name": "stdout",
     "output_type": "stream",
     "text": [
      "統計量: 0.0\n",
      "p値: 0.001953125\n"
     ]
    }
   ],
   "source": [
    "from scipy import stats\n",
    "\n",
    "statistic, p_value = stats.wilcoxon(df[\"ワープ\"],df[\"後ろ\"])\n",
    "\n",
    "print(\"統計量:\", statistic)\n",
    "print(\"p値:\", p_value)"
   ]
  },
  {
   "cell_type": "code",
   "execution_count": 391,
   "metadata": {},
   "outputs": [
    {
     "name": "stdout",
     "output_type": "stream",
     "text": [
      "統計量: 4.0\n",
      "p値: 0.34523107177184\n"
     ]
    }
   ],
   "source": [
    "from scipy import stats\n",
    "\n",
    "statistic, p_value = stats.wilcoxon(df[\"ワープ\"],df[\"ゆったり\"])\n",
    "\n",
    "print(\"統計量:\", statistic)\n",
    "print(\"p値:\", p_value)"
   ]
  },
  {
   "cell_type": "code",
   "execution_count": 392,
   "metadata": {},
   "outputs": [
    {
     "name": "stdout",
     "output_type": "stream",
     "text": [
      "統計量: 15.0\n",
      "p値: 0.232421875\n"
     ]
    }
   ],
   "source": [
    "from scipy import stats\n",
    "\n",
    "statistic, p_value = stats.wilcoxon(df[\"前\"],df[\"後ろ\"])\n",
    "\n",
    "print(\"統計量:\", statistic)\n",
    "print(\"p値:\", p_value)"
   ]
  },
  {
   "cell_type": "code",
   "execution_count": 393,
   "metadata": {},
   "outputs": [
    {
     "name": "stdout",
     "output_type": "stream",
     "text": [
      "統計量: 0.0\n",
      "p値: 0.007526315166457887\n"
     ]
    }
   ],
   "source": [
    "from scipy import stats\n",
    "\n",
    "statistic, p_value = stats.wilcoxon(df[\"前\"],df[\"ゆったり\"])\n",
    "\n",
    "print(\"統計量:\", statistic)\n",
    "print(\"p値:\", p_value)"
   ]
  },
  {
   "cell_type": "code",
   "execution_count": 394,
   "metadata": {},
   "outputs": [
    {
     "name": "stdout",
     "output_type": "stream",
     "text": [
      "統計量: 0.0\n",
      "p値: 0.007632441648205508\n"
     ]
    }
   ],
   "source": [
    "from scipy import stats\n",
    "\n",
    "statistic, p_value = stats.wilcoxon(df[\"後ろ\"],df[\"ゆったり\"])\n",
    "\n",
    "print(\"統計量:\", statistic)\n",
    "print(\"p値:\", p_value)"
   ]
  },
  {
   "cell_type": "code",
   "execution_count": null,
   "metadata": {},
   "outputs": [],
   "source": []
  }
 ],
 "metadata": {
  "kernelspec": {
   "display_name": "env",
   "language": "python",
   "name": "python3"
  },
  "language_info": {
   "codemirror_mode": {
    "name": "ipython",
    "version": 3
   },
   "file_extension": ".py",
   "mimetype": "text/x-python",
   "name": "python",
   "nbconvert_exporter": "python",
   "pygments_lexer": "ipython3",
   "version": "3.10.10"
  }
 },
 "nbformat": 4,
 "nbformat_minor": 2
}
